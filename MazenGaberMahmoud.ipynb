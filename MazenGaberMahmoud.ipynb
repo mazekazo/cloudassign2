{
 "cells": [
  {
   "cell_type": "code",
   "execution_count": 1,
   "id": "a2d6ba04-df93-43fa-a3d9-d8e897e29c55",
   "metadata": {},
   "outputs": [
    {
     "name": "stdout",
     "output_type": "stream",
     "text": [
      "Collecting pandas\n",
      "  Downloading pandas-2.2.2-cp311-cp311-manylinux_2_17_x86_64.manylinux2014_x86_64.whl.metadata (19 kB)\n",
      "Collecting numpy>=1.23.2 (from pandas)\n",
      "  Downloading numpy-1.26.4-cp311-cp311-manylinux_2_17_x86_64.manylinux2014_x86_64.whl.metadata (61 kB)\n",
      "\u001b[2K     \u001b[90m━━━━━━━━━━━━━━━━━━━━━━━━━━━━━━━━━━━━━━━\u001b[0m \u001b[32m61.0/61.0 kB\u001b[0m \u001b[31m611.9 kB/s\u001b[0m eta \u001b[36m0:00:00\u001b[0ma \u001b[36m0:00:01\u001b[0m\n",
      "\u001b[?25hRequirement already satisfied: python-dateutil>=2.8.2 in /opt/conda/lib/python3.11/site-packages (from pandas) (2.8.2)\n",
      "Requirement already satisfied: pytz>=2020.1 in /opt/conda/lib/python3.11/site-packages (from pandas) (2023.3.post1)\n",
      "Collecting tzdata>=2022.7 (from pandas)\n",
      "  Downloading tzdata-2024.1-py2.py3-none-any.whl.metadata (1.4 kB)\n",
      "Requirement already satisfied: six>=1.5 in /opt/conda/lib/python3.11/site-packages (from python-dateutil>=2.8.2->pandas) (1.16.0)\n",
      "Downloading pandas-2.2.2-cp311-cp311-manylinux_2_17_x86_64.manylinux2014_x86_64.whl (13.0 MB)\n",
      "\u001b[2K   \u001b[90m━━━━━━━━━━━━━━━━━━━━━━━━━━━━━━━━━━━━━━━━\u001b[0m \u001b[32m13.0/13.0 MB\u001b[0m \u001b[31m3.5 MB/s\u001b[0m eta \u001b[36m0:00:00\u001b[0m00:01\u001b[0m00:01\u001b[0m\n",
      "\u001b[?25hDownloading numpy-1.26.4-cp311-cp311-manylinux_2_17_x86_64.manylinux2014_x86_64.whl (18.3 MB)\n",
      "\u001b[2K   \u001b[90m━━━━━━━━━━━━━━━━━━━━━━━━━━━━━━━━━━━━━━━━\u001b[0m \u001b[32m18.3/18.3 MB\u001b[0m \u001b[31m3.1 MB/s\u001b[0m eta \u001b[36m0:00:00\u001b[0m00:01\u001b[0m00:01\u001b[0m\n",
      "\u001b[?25hDownloading tzdata-2024.1-py2.py3-none-any.whl (345 kB)\n",
      "\u001b[2K   \u001b[90m━━━━━━━━━━━━━━━━━━━━━━━━━━━━━━━━━━━━━━━━\u001b[0m \u001b[32m345.4/345.4 kB\u001b[0m \u001b[31m2.8 MB/s\u001b[0m eta \u001b[36m0:00:00\u001b[0m00:01\u001b[0m00:01\u001b[0m\n",
      "\u001b[?25hInstalling collected packages: tzdata, numpy, pandas\n",
      "Successfully installed numpy-1.26.4 pandas-2.2.2 tzdata-2024.1\n",
      "Note: you may need to restart the kernel to use updated packages.\n"
     ]
    }
   ],
   "source": [
    "pip install pandas"
   ]
  },
  {
   "cell_type": "code",
   "execution_count": 6,
   "id": "e8c118fd-cf90-4e79-af9e-e693727eea15",
   "metadata": {},
   "outputs": [],
   "source": [
    "import pandas as pd\n",
    "\n",
    "# Load the dataset using the full path from the root directory inside the Docker container\n",
    "df = pd.read_csv('books.csv')"
   ]
  },
  {
   "cell_type": "code",
   "execution_count": 7,
   "id": "d14ca597-b326-45d0-8d7b-745643aed519",
   "metadata": {},
   "outputs": [
    {
     "name": "stdout",
     "output_type": "stream",
     "text": [
      "Unique Harry Potter Books:\n",
      "[\"Harry Potter and the Philosopher's Stone\"\n",
      " 'Harry Potter and the Prisoner of Azkaban'\n",
      " 'Harry Potter and the Order of the Phoenix'\n",
      " 'Harry Potter and the Chamber of Secrets'\n",
      " 'Harry Potter and the Goblet of Fire'\n",
      " 'Harry Potter and the Deathly Hallows'\n",
      " 'Harry Potter and the Half-Blood Prince'\n",
      " 'Complete Harry Potter Boxed Set'\n",
      " 'Harry Potter Collection (Harry Potter, #1-6)'\n",
      " 'The Magical Worlds of Harry Potter: A Treasury of Myths, Legends, and Fascinating Facts']\n",
      "\n",
      "Missing Values:\n",
      "book_id                      0\n",
      "goodreads_book_id            0\n",
      "best_book_id                 0\n",
      "work_id                      0\n",
      "books_count                  0\n",
      "isbn                         0\n",
      "isbn13                       0\n",
      "authors                      0\n",
      "original_publication_year    0\n",
      "original_title               0\n",
      "title                        0\n",
      "language_code                0\n",
      "average_rating               0\n",
      "ratings_count                0\n",
      "work_ratings_count           0\n",
      "work_text_reviews_count      0\n",
      "ratings_1                    0\n",
      "ratings_2                    0\n",
      "ratings_3                    0\n",
      "ratings_4                    0\n",
      "ratings_5                    0\n",
      "image_url                    0\n",
      "small_image_url              0\n",
      "dtype: int64\n",
      "The Most Selling Books in Harry Potter Series:\n",
      "original_title\n",
      "Harry Potter and the Philosopher's Stone    4602479\n",
      "Harry Potter and the Prisoner of Azkaban    1832823\n",
      "Harry Potter and the Chamber of Secrets     1779331\n",
      "Harry Potter and the Goblet of Fire         1753043\n",
      "Harry Potter and the Deathly Hallows        1746574\n",
      "Name: ratings_count, dtype: int64\n"
     ]
    }
   ],
   "source": [
    "# Filter the dataset to focus on the Harry Potter series\n",
    "df_hp = df[df['original_title'].str.contains('Harry Potter', case=False, na=False)]\n",
    "\n",
    "# Check the unique book titles in the Harry Potter series\n",
    "print(\"Unique Harry Potter Books:\")\n",
    "print(df_hp['original_title'].unique())\n",
    "\n",
    "# Drop any duplicate entries based on the 'Book Title'\n",
    "df_hp = df_hp.drop_duplicates(subset=['original_title'])\n",
    "\n",
    "# Check for missing values\n",
    "print(\"\\nMissing Values:\")\n",
    "print(df_hp.isnull().sum())\n",
    "most_selling_books = df_hp.groupby('original_title')['ratings_count'].sum().sort_values(ascending=False)\n",
    "\n",
    "# Print the top selling books\n",
    "print(\"The Most Selling Books in Harry Potter Series:\")\n",
    "print(most_selling_books.head())"
   ]
  },
  {
   "cell_type": "code",
   "execution_count": 8,
   "id": "40b061f3-1617-4ad5-b7c8-040a63674b0f",
   "metadata": {},
   "outputs": [
    {
     "name": "stdout",
     "output_type": "stream",
     "text": [
      "Average rating of the Harry Potter books: 4.49\n"
     ]
    }
   ],
   "source": [
    "average_rating_hp = df_hp['average_rating'].mean()\n",
    "\n",
    "# Print the average rating\n",
    "print(f\"Average rating of the Harry Potter books: {average_rating_hp:.2f}\")"
   ]
  },
  {
   "cell_type": "code",
   "execution_count": null,
   "id": "0d612d1a-10d7-4394-8230-e94fdf09739c",
   "metadata": {},
   "outputs": [],
   "source": []
  }
 ],
 "metadata": {
  "kernelspec": {
   "display_name": "Python 3 (ipykernel)",
   "language": "python",
   "name": "python3"
  },
  "language_info": {
   "codemirror_mode": {
    "name": "ipython",
    "version": 3
   },
   "file_extension": ".py",
   "mimetype": "text/x-python",
   "name": "python",
   "nbconvert_exporter": "python",
   "pygments_lexer": "ipython3",
   "version": "3.11.6"
  }
 },
 "nbformat": 4,
 "nbformat_minor": 5
}
